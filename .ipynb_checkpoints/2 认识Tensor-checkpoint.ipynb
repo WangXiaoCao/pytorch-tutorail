{
 "cells": [
  {
   "cell_type": "markdown",
   "metadata": {},
   "source": [
    "# 2 认识Tensor\n",
    "Tensor,中文张量，是PyTorch中的基本数据类型。\n",
    "\n",
    "本章将对Tensor进行系统介绍，从而为后续的深度学习建模提供更好的基础，分别从五大方面介绍：\n",
    "\n",
    "- Tensor的初步认识\n",
    "- Tensor的创建方式\n",
    "- Tensor有哪些数据类型，常用api\n",
    "- Tensor的是如何存储的\n",
    "- Tensor的api归纳总结"
   ]
  }
 ],
 "metadata": {
  "kernelspec": {
   "display_name": "Python 3",
   "language": "python",
   "name": "python3"
  },
  "language_info": {
   "codemirror_mode": {
    "name": "ipython",
    "version": 3
   },
   "file_extension": ".py",
   "mimetype": "text/x-python",
   "name": "python",
   "nbconvert_exporter": "python",
   "pygments_lexer": "ipython3",
   "version": "3.6.2"
  }
 },
 "nbformat": 4,
 "nbformat_minor": 2
}
