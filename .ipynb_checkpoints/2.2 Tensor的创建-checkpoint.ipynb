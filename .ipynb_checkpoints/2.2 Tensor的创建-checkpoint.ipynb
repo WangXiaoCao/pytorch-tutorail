{
 "cells": [
  {
   "cell_type": "markdown",
   "metadata": {},
   "source": [
    "## 2.2 Tensor的创建\n",
    "### 2.2.1 与numpy的交互\n",
    "可以将numpy的ndarray直接转换成tensor"
   ]
  },
  {
   "cell_type": "code",
   "execution_count": 3,
   "metadata": {},
   "outputs": [
    {
     "name": "stdout",
     "output_type": "stream",
     "text": [
      "tensor([1, 2, 3, 4, 5], dtype=torch.int32)\n"
     ]
    }
   ],
   "source": [
    "import numpy as np\n",
    "import torch\n",
    "\n",
    "a = np.array([1,2,3,4,5])\n",
    "t = torch.from_numpy(a)\n",
    "print(t)"
   ]
  },
  {
   "cell_type": "markdown",
   "metadata": {},
   "source": [
    "自然，也可以将tensor转换我numpy"
   ]
  },
  {
   "cell_type": "code",
   "execution_count": 4,
   "metadata": {},
   "outputs": [
    {
     "name": "stdout",
     "output_type": "stream",
     "text": [
      "[1 2 3 4 5]\n"
     ]
    }
   ],
   "source": [
    "a = t.numpy()\n",
    "print(a)"
   ]
  },
  {
   "cell_type": "markdown",
   "metadata": {},
   "source": [
    "### 2.2.2 创建指定值的tensor\n",
    "创建3*4大小的值都未0的向量，其中括号中的参数为tensor的size"
   ]
  },
  {
   "cell_type": "code",
   "execution_count": 5,
   "metadata": {},
   "outputs": [
    {
     "name": "stdout",
     "output_type": "stream",
     "text": [
      "tensor([[0., 0., 0., 0.],\n",
      "        [0., 0., 0., 0.],\n",
      "        [0., 0., 0., 0.]])\n"
     ]
    }
   ],
   "source": [
    "t = torch.zeros(3,4)\n",
    "print(t)"
   ]
  },
  {
   "cell_type": "markdown",
   "metadata": {},
   "source": [
    "同理，这类api还有："
   ]
  },
  {
   "cell_type": "code",
   "execution_count": 6,
   "metadata": {},
   "outputs": [
    {
     "data": {
      "text/plain": [
       "tensor([[0., 0., 0., 0.],\n",
       "        [0., 0., 0., 0.],\n",
       "        [0., 0., 0., 0.]])"
      ]
     },
     "execution_count": 6,
     "metadata": {},
     "output_type": "execute_result"
    }
   ],
   "source": [
    "t = torch.ones(3,4)  # 创建值全为1的tensor\n",
    "t = torch.eye(4,4)  # 创建4*4的对角矩阵\n",
    "t = torch.empty(3,4)  # 创建3*4值全为空的均值\n",
    "t = torch.full((3,4), 3.14)  # 创建3*4值为3.14的tensor\n",
    "torch.ones_like(t) # 创建大小与t一样，值为1的tensor\n",
    "torch.zeros_like(t) # 创建大小与t一样，值为0的tensor"
   ]
  },
  {
   "cell_type": "markdown",
   "metadata": {},
   "source": [
    "注意，以上是通过t = torch.XX(n,m)创建了一个命名为t的tensor, 也可以根据torch.XX(n, m, t)创建一个命名为t的tensor。比如："
   ]
  },
  {
   "cell_type": "code",
   "execution_count": 8,
   "metadata": {},
   "outputs": [
    {
     "data": {
      "text/plain": [
       "tensor([[0., 0., 0., 0.],\n",
       "        [0., 0., 0., 0.],\n",
       "        [0., 0., 0., 0.]])"
      ]
     },
     "execution_count": 8,
     "metadata": {},
     "output_type": "execute_result"
    }
   ],
   "source": [
    "torch.zeros((3, 4), t)"
   ]
  },
  {
   "cell_type": "markdown",
   "metadata": {},
   "source": [
    "### 2.2.3 创建等量序列\n",
    "pytorch也提供了直接创建等差、等比、有序数列的函数。"
   ]
  },
  {
   "cell_type": "code",
   "execution_count": 12,
   "metadata": {},
   "outputs": [
    {
     "name": "stderr",
     "output_type": "stream",
     "text": [
      "C:\\Users\\CC\\Anaconda3\\lib\\site-packages\\ipykernel_launcher.py:4: UserWarning: torch.range is deprecated in favor of torch.arange and will be removed in 0.5. Note that arange generates values in [start; end), not [start; end].\n",
      "  after removing the cwd from sys.path.\n"
     ]
    }
   ],
   "source": [
    "t = torch.linspace(start=1, end=10, steps=5)  # 创建[1, 10]之间的5个数的等差数列\n",
    "t = torch.logspace(start=1, end=10, steps=5)  # 创建[1, 10]之间的5个数的等比数列\n",
    "\n",
    "t = torch.range(start=1, end=10, step=5)  # 创建[1, 10]之间的等间隔数据，间隔步长为5, 注意，该方法已被弃用\n",
    "t = torch.arange(start=1, end=10, step=5)  # 创建[1, 10)之间的等间隔数据，间隔步长为5"
   ]
  },
  {
   "cell_type": "markdown",
   "metadata": {},
   "source": [
    "注意：\n",
    "（1）linspace, logspace, range中是包含end边界的；arange中是不包含end边界的。\n",
    "\n",
    "（2）linspace和logspace中的step是指生成数据的数量；range与arange中的step是指数据间隔的步长。\n",
    "\n",
    "### 2.2.4 创建随机序列\n",
    "pytorch还提供了创建随机数的几个典型的方法。"
   ]
  },
  {
   "cell_type": "code",
   "execution_count": 13,
   "metadata": {
    "collapsed": true
   },
   "outputs": [],
   "source": [
    "t = torch.randperm(n=10) #创建[0, 10)的随机整数\n",
    "t = torch.rand(3,4)  # 创建3*4大小的[0,1]之间的随机小数\n",
    "t = torch.randn(3,4) # 创建3*4大小的正态分布的随机数"
   ]
  },
  {
   "cell_type": "markdown",
   "metadata": {},
   "source": [
    "### 2.2.5 从其他数据结构中创建"
   ]
  },
  {
   "cell_type": "code",
   "execution_count": 14,
   "metadata": {
    "collapsed": true
   },
   "outputs": [],
   "source": [
    "#从list创建\n",
    "t = torch.Tensor([[1,2,3],[4,5,6]])\n",
    "#从Numy创建\n",
    "t = torch.Tensor(np.array([1,2,3]))\n",
    "#从已知张量中创建\n",
    "a = torch.Tensor([1,2,3])\n",
    "t = torch.Tensor(a)\n",
    "#从storage中创建\n",
    "#每个tensor都会有storage，这个后面章节来叙述。"
   ]
  },
  {
   "cell_type": "markdown",
   "metadata": {},
   "source": [
    "### 2.2.6 torch.Tensor()创建\n",
    "无参创建"
   ]
  },
  {
   "cell_type": "code",
   "execution_count": 15,
   "metadata": {
    "collapsed": true
   },
   "outputs": [],
   "source": [
    "t = torch.Tensor()  # 创建了一个tensor([])的张量"
   ]
  },
  {
   "cell_type": "markdown",
   "metadata": {},
   "source": [
    "指定参数创建"
   ]
  },
  {
   "cell_type": "code",
   "execution_count": 18,
   "metadata": {
    "collapsed": true
   },
   "outputs": [],
   "source": [
    "t = torch.Tensor(3,4)  # 创建了一个大小3*4的张量\n",
    "t = torch.IntTensor(3,4)  # 创建了一个大小3*4的类型为整型的空张量\n",
    "t = torch.IntTensor(3,4).zero_()  # 创建了一个大小3*4的类型为整型的空张量,并以0填充"
   ]
  }
 ],
 "metadata": {
  "kernelspec": {
   "display_name": "Python 3",
   "language": "python",
   "name": "python3"
  },
  "language_info": {
   "codemirror_mode": {
    "name": "ipython",
    "version": 3
   },
   "file_extension": ".py",
   "mimetype": "text/x-python",
   "name": "python",
   "nbconvert_exporter": "python",
   "pygments_lexer": "ipython3",
   "version": "3.6.2"
  }
 },
 "nbformat": 4,
 "nbformat_minor": 2
}
