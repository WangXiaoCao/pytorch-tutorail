{
 "cells": [
  {
   "cell_type": "markdown",
   "metadata": {},
   "source": [
    "## 6.1 简单二分类模型\n",
    "\n",
    "简单的分类模型完整代码如下，每一个部分都是前文中介绍过的组件，直接看代码与注释，大家就能理解的。"
   ]
  },
  {
   "cell_type": "code",
   "execution_count": 1,
   "metadata": {},
   "outputs": [
    {
     "name": "stdout",
     "output_type": "stream",
     "text": [
      "epoch: 0, loss: 0.056464, acc: 0.196000\n",
      "epoch: 200, loss: 0.017202, acc: 0.200000\n",
      "epoch: 400, loss: 0.008882, acc: 0.200000\n",
      "epoch: 600, loss: 0.005450, acc: 0.200000\n",
      "epoch: 800, loss: 0.003612, acc: 0.200000\n",
      "tensor([-1.1043,  0.1697])\n",
      "tensor([-1.1043,  0.1697])\n"
     ]
    },
    {
     "name": "stderr",
     "output_type": "stream",
     "text": [
      "C:\\Users\\CC\\Anaconda3\\lib\\site-packages\\torch\\serialization.py:241: UserWarning: Couldn't retrieve source code for container of type ClassifyModel. It won't be checked for correctness upon loading.\n",
      "  \"type \" + obj.__name__ + \". It won't be checked \"\n"
     ]
    }
   ],
   "source": [
    "import torch\n",
    "import torch.nn as nn\n",
    "import torch.utils.data as Data\n",
    "\n",
    "\n",
    "# 模型结构\n",
    "class ClassifyModel(nn.Module):\n",
    "    def __init__(self, input_dim, hiden_dim, output_dim):\n",
    "        super(ClassifyModel, self).__init__()\n",
    "        self.linear1 = nn.Linear(input_dim, hiden_dim)\n",
    "        self.relu = nn.ReLU()\n",
    "        self.linear2 = nn.Linear(hiden_dim, output_dim)\n",
    "\n",
    "    def forward(self, x):\n",
    "        hidden = self.linear1(x)\n",
    "        activate = self.relu(hidden)\n",
    "        output = self.linear2(activate)\n",
    "        # 注意：整个模型结构的最后一层是线性全连接层，并非是sigmoid层，是因为之后直接接CrossEntropy()损失函数，已经内置了log softmax层的过程了\n",
    "        # 若损失函数使用NLLLoss()则需要在模型结构中先做好tanh或者log_softmax\n",
    "        # 即：y^ = softmax(x), loss = ylog(y^) + (1-y)log(1-y^)中的过程\n",
    "\n",
    "        return output\n",
    "\n",
    "\n",
    "def get_acc(outputs, labels):\n",
    "    \"\"\"计算acc\"\"\"\n",
    "    _, predict = torch.max(outputs.data, 1)\n",
    "    total_num = labels.shape[0]*1.0\n",
    "    correct_num = (labels == predict).sum().item()\n",
    "    acc = correct_num / total_num\n",
    "\n",
    "    return acc\n",
    "\n",
    "\n",
    "# 准备数据\n",
    "x = torch.unsqueeze(torch.linspace(-10, 10, 50), 1)  # 50*1\n",
    "y = torch.cat((torch.ones(25), torch.zeros(25))).type(torch.LongTensor)   # 1*50\n",
    "\n",
    "dataset = Data.TensorDataset(x, y)\n",
    "dataloader = Data.DataLoader(dataset=dataset, batch_size=5, shuffle=True)\n",
    "\n",
    "# 模型实例化\n",
    "# 方式一：\n",
    "model = ClassifyModel(1, 10, 2)\n",
    "\n",
    "# 方式二：直接构建模型序列\n",
    "model2 = torch.nn.Sequential(\n",
    "    nn.Linear(1, 10),\n",
    "    nn.ReLU(),\n",
    "    nn.Linear(10,2)\n",
    ")\n",
    "\n",
    "\n",
    "\n",
    "# 优化器\n",
    "optim = torch.optim.Adam(model2.parameters(), lr=0.0001)\n",
    "\n",
    "# 损失\n",
    "loss_fun = nn.CrossEntropyLoss()\n",
    "\n",
    "# 训练\n",
    "for e in range(1000):\n",
    "    epoch_loss = 0\n",
    "    epoch_acc = 0\n",
    "    for i, (x, y) in enumerate(dataloader):\n",
    "        optim.zero_grad()\n",
    "\n",
    "        out = model2(x)\n",
    "        loss = loss_fun(out, y)\n",
    "\n",
    "        loss.backward()\n",
    "        optim.step()\n",
    "\n",
    "        epoch_loss += loss.data\n",
    "        epoch_acc += get_acc(out, y)\n",
    "\n",
    "    if e % 200 == 0:\n",
    "        print('epoch: %d, loss: %f, acc: %f' % (e, epoch_loss / 50, epoch_acc / 50))\n",
    "\n",
    "\n",
    "# # 保存与加载模型\n",
    "# 方式1\n",
    "model_path = 'data/classify_model.pkl'\n",
    "torch.save(model, model_path)\n",
    "reload_model = torch.load(model_path)\n",
    "print(reload_model(torch.Tensor([5])).data)\n",
    "\n",
    "# # 保存与加载模型\n",
    "# 方式2\n",
    "model_path2 = 'data/classify_model2.pkl'\n",
    "torch.save(model.state_dict(), model_path2)\n",
    "reload_model = ClassifyModel(1,10,2)\n",
    "reload_model.load_state_dict(torch.load(model_path2))\n",
    "print(reload_model(torch.Tensor([5])).data)"
   ]
  }
 ],
 "metadata": {
  "kernelspec": {
   "display_name": "Python 3",
   "language": "python",
   "name": "python3"
  },
  "language_info": {
   "codemirror_mode": {
    "name": "ipython",
    "version": 3
   },
   "file_extension": ".py",
   "mimetype": "text/x-python",
   "name": "python",
   "nbconvert_exporter": "python",
   "pygments_lexer": "ipython3",
   "version": "3.6.2"
  }
 },
 "nbformat": 4,
 "nbformat_minor": 2
}
