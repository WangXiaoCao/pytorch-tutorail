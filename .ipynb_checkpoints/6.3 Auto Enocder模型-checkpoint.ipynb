{
 "cells": [
  {
   "cell_type": "markdown",
   "metadata": {},
   "source": [
    "## 6.2 Auto Enocder模型\n",
    "\n",
    "自编码器是很经典的模型，分为encoder和decoder两个部分，特征输入encoder后输出编码，这个编码又做为decoder端的输入，经过decoder后做预测。\n",
    "\n",
    "下面时一个非常简单的自编码器的构建与训练。"
   ]
  },
  {
   "cell_type": "code",
   "execution_count": 1,
   "metadata": {
    "collapsed": true
   },
   "outputs": [],
   "source": [
    "import torch\n",
    "import torch.nn as nn\n",
    "import torch.nn.functional as F\n",
    "\n",
    "\n",
    "class AutoEncoderDecoder(nn.Module):\n",
    "    def __init__(self, dim_in, dim_out=128, dropout=0.2):\n",
    "        \"\"\"模型结构\"\"\"\n",
    "        super(AutoEncoderDecoder, self).__init__()\n",
    "\n",
    "        self.encoder = nn.Sequential(\n",
    "            nn.Linear(dim_in, dim_out),\n",
    "            nn.LeakyReLU()\n",
    "        )\n",
    "\n",
    "        self.decoder = nn.Sequential(\n",
    "            nn.Linear(dim_out, dim_in)\n",
    "        )\n",
    "\n",
    "        self.dropout = dropout\n",
    "\n",
    "    def forward(self, x):\n",
    "        e = self.encoder(x)\n",
    "        e = F.dropout(e, self.dropout)   # 可以增加dropout, 也可以去掉，将一定比例的数据设置为0\n",
    "        d = self.decoder(e)\n",
    "\n",
    "        return e, d\n",
    "\n",
    "\n",
    "class TrainAE():\n",
    "    def __init__(self, epoch=5):\n",
    "        \"\"\"训练，将X输入encoder->decoder，最小化输出与输入的损失，及让自己生成自己\"\"\"\n",
    "        self.epoch = epoch\n",
    "\n",
    "    def train(self, X):\n",
    "        # 创建模型\n",
    "        N, dim_in = X.shape()\n",
    "        model = AutoEncoderDecoder(dim_in)\n",
    "\n",
    "        # 优化器\n",
    "        optim = torch.optim.Adam(model.parameters(), lr=0.0001)\n",
    "\n",
    "        # 损失\n",
    "        loss_f = torch.nn.MSELoss()\n",
    "\n",
    "        for e in range(self.epoch):\n",
    "            optim.zero_grad()\n",
    "\n",
    "            embedding, Y_pred = model(X)\n",
    "            loss = loss_f(Y_pred, X)\n",
    "\n",
    "            loss.backward()\n",
    "\n",
    "            optim.step()\n",
    "\n",
    "        embedding, Y_pred = model(X)\n",
    "        return embedding.data.numpy()"
   ]
  }
 ],
 "metadata": {
  "kernelspec": {
   "display_name": "Python 3",
   "language": "python",
   "name": "python3"
  },
  "language_info": {
   "codemirror_mode": {
    "name": "ipython",
    "version": 3
   },
   "file_extension": ".py",
   "mimetype": "text/x-python",
   "name": "python",
   "nbconvert_exporter": "python",
   "pygments_lexer": "ipython3",
   "version": "3.6.2"
  }
 },
 "nbformat": 4,
 "nbformat_minor": 2
}
