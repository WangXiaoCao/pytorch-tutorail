{
 "cells": [
  {
   "cell_type": "markdown",
   "metadata": {},
   "source": [
    "## 4.7 使用GPU"
   ]
  },
  {
   "cell_type": "code",
   "execution_count": 1,
   "metadata": {},
   "outputs": [
    {
     "name": "stdout",
     "output_type": "stream",
     "text": [
      "cpu\n"
     ]
    }
   ],
   "source": [
    "import torch\n",
    "\n",
    "# 使用GPU有两种方式\n",
    "\n",
    "# 方式一：直接将变量放到指定设备上\n",
    "device = torch.device('cpu')\n",
    "dtype = torch.float\n",
    "\n",
    "x = torch.randn(3,5, device=device, dtype=dtype)\n",
    "print(x.device)\n",
    "\n",
    "# 方式二：创建gpu环境\n",
    "if torch.cuda.is_available():\n",
    "    x = torch.randn(3, 5)\n",
    "    print('use cuda')\n",
    "    x = x.cuda()\n",
    "    print(x.device)"
   ]
  }
 ],
 "metadata": {
  "kernelspec": {
   "display_name": "Python 3",
   "language": "python",
   "name": "python3"
  },
  "language_info": {
   "codemirror_mode": {
    "name": "ipython",
    "version": 3
   },
   "file_extension": ".py",
   "mimetype": "text/x-python",
   "name": "python",
   "nbconvert_exporter": "python",
   "pygments_lexer": "ipython3",
   "version": "3.6.2"
  }
 },
 "nbformat": 4,
 "nbformat_minor": 2
}
