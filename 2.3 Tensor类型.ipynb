{
 "cells": [
  {
   "cell_type": "markdown",
   "metadata": {},
   "source": [
    "## 2.3 Tensor类型\n",
    "\n",
    "**类型列表**\n",
    "\n",
    "知道了创建Tensor的各种方法，现在来看看Tensor有什么数据类型，下表是官网中给出的信息，在CPU和GPU上各有9种类型。这些类型是特地和NumPy的参数名称一致的，以方便大家认知。\n",
    "![jupyter](./image/3.png)\n",
    "\n",
    "在tensor的类型，我们常常会用到以下这些操作：\n",
    "\n",
    "**（1）创建Tensor时用参数指明数据类型**"
   ]
  },
  {
   "cell_type": "code",
   "execution_count": 1,
   "metadata": {
    "collapsed": true
   },
   "outputs": [],
   "source": [
    "import torch\n",
    "\n",
    "double_points = torch.ones((10, 2), dtype=torch.double)\n",
    "short_points = torch.tensor([[1,2],[3,4]], dtype=torch.short)"
   ]
  },
  {
   "cell_type": "markdown",
   "metadata": {},
   "source": [
    "**（2）获取tensor的数据类型**"
   ]
  },
  {
   "cell_type": "code",
   "execution_count": 2,
   "metadata": {},
   "outputs": [
    {
     "data": {
      "text/plain": [
       "torch.int16"
      ]
     },
     "execution_count": 2,
     "metadata": {},
     "output_type": "execute_result"
    }
   ],
   "source": [
    "short_points.dtype"
   ]
  },
  {
   "cell_type": "markdown",
   "metadata": {},
   "source": [
    "**（3）转换tensor的数据类型**"
   ]
  },
  {
   "cell_type": "code",
   "execution_count": 3,
   "metadata": {
    "collapsed": true
   },
   "outputs": [],
   "source": [
    "# （1）直接在tensor后面接.dtype()进行转换\n",
    "double_points = torch.zeros(10,2).double()\n",
    "\n",
    "# （2）使用to进行转换\n",
    "double_points = torch.zeros(10,2).to(torch.double)\n",
    "\n",
    "# （3）使用type()进行转换\n",
    "double_points = torch.zeros(10,2).type(torch.short)"
   ]
  },
  {
   "cell_type": "markdown",
   "metadata": {},
   "source": [
    "**（4）设置/获取默认Tensor类型**\n",
    "```python\n",
    "# 指定\n",
    "torch.set_default_tensor_type(torch.double)\n",
    "# 获取\n",
    "torch.get_default_tensor_type()\n",
    "```"
   ]
  }
 ],
 "metadata": {
  "kernelspec": {
   "display_name": "Python 3",
   "language": "python",
   "name": "python3"
  },
  "language_info": {
   "codemirror_mode": {
    "name": "ipython",
    "version": 3
   },
   "file_extension": ".py",
   "mimetype": "text/x-python",
   "name": "python",
   "nbconvert_exporter": "python",
   "pygments_lexer": "ipython3",
   "version": "3.6.2"
  }
 },
 "nbformat": 4,
 "nbformat_minor": 2
}
