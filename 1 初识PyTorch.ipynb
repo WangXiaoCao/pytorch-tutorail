{
 "cells": [
  {
   "cell_type": "markdown",
   "metadata": {},
   "source": [
    "# 1 初识PyTorch\n",
    "## 1.1 什么是Pytorch?\n",
    "\n",
    "- pytorch是一个python项目的深度学习库。\n",
    "- pytorch核心数据结构是tensor，一个多维数组，类似于Numpy arrays，tensor可用来存储一系列特征，并加速数学运算。\n",
    "- Pytorch提供了分布式训练的包、高效数据加载、以及通用的深度学习函数库。非常适合初学者。\n",
    "\n",
    "## 1.2 为什么要选择使用Pytorch?\n",
    "\n",
    "- 深度学习大火，做算法的怎么能没有一款得心应手的深度学习库呢？\n",
    "- Pytorch易学习、易使用、易扩，易调试，为什么不用？\n",
    "- Pytorch中提供的数据结构Tensor, 用起来像极了NumPy，在此基础上增添了GPU加速和梯度自动计算的功能，对有python基础的人简直是分分钟上手的事呀！\n",
    "- Pytorch的库可以让人将复杂的模型简单地用代码实现，简直是学术界的福音啊！\n",
    "- Pytorch底层是C++， 运行时间短，部署生产环境毫无压力，简直是工业界的福音啊！\n",
    "\n",
    "怎么样？心动不心动呀？感兴趣的话就往下看吧~\n",
    "\n",
    "---\n",
    "\n",
    "接下去的文章将分成7个章节：\n",
    "- 认识Tensor的类型、创建、存储、api等，打好Tensor的基础，是进行PyTorch深度学习实践的重中之重的基础。\n",
    "- 学习PyTorch如何读入各种外部数据\n",
    "- 利用PyTorch从头到尾创建、训练、评估一个模型，理解与熟悉PyTorch实现模型的每个步骤，用到的模块与方法。\n",
    "- 学习如何利用PyTorch提供的3种方法去创建各种模型结构。\n",
    "- 利用PyTorch实现简单与经典的模型全过程:简单二分类、手写字体识别、词向量的实现、自编码器实现。\n",
    "- 利用PyTorch实现复杂模型：翻译机（nlp领域）、生成对抗网络（GAN)、强化学习(RL)、风格迁移（cv领域）。\n",
    "- PyTorch的其他高级用法：模型在不同框架之间的迁移、可视化、多个GPU并行计算。\n",
    "\n",
    "要注意的是，本教程（专栏）是针对PyTorch的，有关深度学习的各类理论知识讲起来就又是一个大故事了，所以不在本教程种作为重点，希望读者能事先拥有相关的基础理论知识。相关知识也会在教程中有所推荐。"
   ]
  }
 ],
 "metadata": {
  "kernelspec": {
   "display_name": "Python 3",
   "language": "python",
   "name": "python3"
  },
  "language_info": {
   "codemirror_mode": {
    "name": "ipython",
    "version": 3
   },
   "file_extension": ".py",
   "mimetype": "text/x-python",
   "name": "python",
   "nbconvert_exporter": "python",
   "pygments_lexer": "ipython3",
   "version": "3.6.2"
  }
 },
 "nbformat": 4,
 "nbformat_minor": 2
}
