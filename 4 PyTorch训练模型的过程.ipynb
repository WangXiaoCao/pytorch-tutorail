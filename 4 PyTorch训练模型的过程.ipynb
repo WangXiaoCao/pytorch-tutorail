{
 "cells": [
  {
   "cell_type": "markdown",
   "metadata": {},
   "source": [
    "# 4 Pytorch构建简单的模型并训练\n",
    "终于来到了训练模型的环节。但认知事物的过程要循序渐进，本章不涉及什么高大上的cnn,rnn模型，只立足于最简单的一元线性回归模型。麻雀虽小，五脏俱全，我们从简单的模型的构建于训练，来一步步认知pytorch的各类模块与组件。\n",
    "\n",
    "本章分为4个小节。\n",
    "\n",
    "第一节介绍手工训练一元线性模型的过程，理解训练模型的各个步骤与逻辑，知道其内在的计算方式。\n",
    "\n",
    "第二节介绍pytorch中的自动回归机制，代替手工计算梯度的繁杂过程。\n",
    "\n",
    "第三节介绍pytorch中的优化器与自动更新参数，代替手工撰写优化公式与更新参数的过程。\n",
    "\n",
    "第四节介绍分割数据集，并在迭代过程中使用验证集进行评估。\n",
    "\n",
    "学完这四节，会对pytorch建模与训练过程有个系统的初步了解，为下一章做准备。"
   ]
  }
 ],
 "metadata": {
  "kernelspec": {
   "display_name": "Python 3",
   "language": "python",
   "name": "python3"
  },
  "language_info": {
   "codemirror_mode": {
    "name": "ipython",
    "version": 3
   },
   "file_extension": ".py",
   "mimetype": "text/x-python",
   "name": "python",
   "nbconvert_exporter": "python",
   "pygments_lexer": "ipython3",
   "version": "3.6.2"
  }
 },
 "nbformat": 4,
 "nbformat_minor": 2
}
