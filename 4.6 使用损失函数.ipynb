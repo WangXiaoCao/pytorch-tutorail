{
 "cells": [
  {
   "cell_type": "markdown",
   "metadata": {},
   "source": [
    "## 4.6 使用损失函数\n",
    "\n",
    "PyTorch提供了许多常用的损失函数，再前面小节中也有用到过了。损失函数可以在torch.nn.functional中调用。\n",
    "\n",
    "再日常模型训练中，最常见的是做回归预测或者做分类，下面分别介绍它们的常用损失函数的用法。\n",
    "\n",
    "其他损失函数的用法是一样的。可以再这份博客里看看各类损失的含义：https://www.cnblogs.com/kk17/p/10246324.html\n",
    "\n",
    "### 4.6.1 适用于回归的损失函数\n",
    "\n",
    "- mse_loss  误差的平方\n",
    "- l1  误差的绝对值\n",
    "\n",
    "注意可以通过reduction这个参数配置是均值、求和还是不进行聚合。"
   ]
  },
  {
   "cell_type": "code",
   "execution_count": 12,
   "metadata": {},
   "outputs": [
    {
     "name": "stdout",
     "output_type": "stream",
     "text": [
      "tensor(1.2500)\n",
      "tensor(0.7500)\n"
     ]
    }
   ],
   "source": [
    "import numpy as np\n",
    "import torch\n",
    "import torch.nn.functional as F\n",
    "\n",
    "# # 适用于回归的损失： mse, l1\n",
    "p = torch.Tensor(np.array([[1, 2], [3, 4]]))\n",
    "y = torch.Tensor(np.array([[1,4], [2,4]]))\n",
    "\n",
    "loss_mse = torch.nn.MSELoss(reduction='elementwise_mean' )\n",
    "loss_l1 = torch.nn.L1Loss(reduction='elementwise_mean' )\n",
    "\n",
    "print(loss_mse(p, y))\n",
    "print(loss_l1(p,y))"
   ]
  },
  {
   "cell_type": "markdown",
   "metadata": {},
   "source": [
    "### 4.6.2 适用于分类的损失函数\n",
    "\n",
    "注意以下两种方式以后经常会遇到。"
   ]
  },
  {
   "cell_type": "code",
   "execution_count": 13,
   "metadata": {},
   "outputs": [
    {
     "name": "stdout",
     "output_type": "stream",
     "text": [
      "tensor(1.6094)\n",
      "tensor(1.6094)\n"
     ]
    }
   ],
   "source": [
    "# # 使用与分类的损失：\n",
    "p = torch.ones(3, 5, requires_grad=True)  # 3个样本，5个label\n",
    "y = torch.Tensor([1, 0, 4]).type(torch.LongTensor)  # 3个样本对应的true label\n",
    "\n",
    "# 方式1\n",
    "log_softmax = F.log_softmax(p, dim=1)  # 先进过log softmax\n",
    "loss1 = F.nll_loss(log_softmax, y)\n",
    "print(loss1.data)\n",
    "\n",
    "# 方式2(等价于方式1）\n",
    "loss2 = F.cross_entropy(p, y)\n",
    "print(loss2.data)"
   ]
  },
  {
   "cell_type": "code",
   "execution_count": null,
   "metadata": {
    "collapsed": true
   },
   "outputs": [],
   "source": []
  }
 ],
 "metadata": {
  "kernelspec": {
   "display_name": "Python 3",
   "language": "python",
   "name": "python3"
  },
  "language_info": {
   "codemirror_mode": {
    "name": "ipython",
    "version": 3
   },
   "file_extension": ".py",
   "mimetype": "text/x-python",
   "name": "python",
   "nbconvert_exporter": "python",
   "pygments_lexer": "ipython3",
   "version": "3.6.2"
  }
 },
 "nbformat": 4,
 "nbformat_minor": 2
}
