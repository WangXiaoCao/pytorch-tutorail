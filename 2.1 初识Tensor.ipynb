{
 "cells": [
  {
   "cell_type": "markdown",
   "metadata": {},
   "source": [
    "## 2.1 初识Tensor\n",
    "Tensor是PyTorch的数据结构，要对PyTorch有深入学习，那么务必要对tensor有所熟悉。\n",
    "\n",
    "### 2.1.1 tensor是pytorch的基础数据结构\n",
    "\n",
    "假设我们要建立图像分类的模型，整个过程是：\n",
    "\n",
    "（1）将.jpg、.png或其他格式的图片转换成模型能够识别的数据格式input；\n",
    "\n",
    "（2）input进入模型后，在模型的各模块中进行转化，在中间过程形成很多数据表征(intermediate representation)；\n",
    "\n",
    "（3）最后模型输出output\n",
    "\n",
    "在这个过程中,input, intermediate representation, output都是通过tensor这个数据结构来表示的。如下图：\n",
    "\n",
    "![jupyter](./image/1.png)\n",
    "\n",
    "### 2.2.2 tensor是多维数组\n",
    "Tensor是向量和矩阵的泛化， 如下，标量是0维的，向量是1维的，矩阵是2维的，它们都是张量的特例，张量可以是3维、4维...任何维度。\n",
    "\n",
    "![jupyter](./image/2.png)\n",
    "\n",
    "### 2.2.3 tensor能在GPU上加速\n",
    "python的NumPyArray其实也是多维数组，array之于Numpy等同于tensor之于PyTorch，与array相比tensor还具有以下特点：\n",
    "\n",
    "（1）tensor能在GPU上快速运行；\n",
    "\n",
    "（2）tensor能在多块设备或机器上分布式运行；\n",
    "\n",
    "（3）tensor能跟整个计算图的过程，从而支持自动反向传播。\n",
    "\n",
    "这些都是执行深度学习库的重要特性。\n"
   ]
  }
 ],
 "metadata": {
  "kernelspec": {
   "display_name": "Python 3",
   "language": "python",
   "name": "python3"
  },
  "language_info": {
   "codemirror_mode": {
    "name": "ipython",
    "version": 3
   },
   "file_extension": ".py",
   "mimetype": "text/x-python",
   "name": "python",
   "nbconvert_exporter": "python",
   "pygments_lexer": "ipython3",
   "version": "3.6.2"
  }
 },
 "nbformat": 4,
 "nbformat_minor": 2
}
