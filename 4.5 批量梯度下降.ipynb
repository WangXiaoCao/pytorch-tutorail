{
 "cells": [
  {
   "cell_type": "markdown",
   "metadata": {},
   "source": [
    "## 4.5 批量梯度下降\n",
    "\n",
    "在实际应用中，数据集往往是非常大的，如果每次迭代都对所有样本进行前向-后向计算从而更新依次参数，就会非常慢，因此常用的方式是将总样本分割为多批样本，每计算一批样本就更新一次参数。PyTorch提供了每次产生一批数据的迭代器，提升了效率。\n",
    "\n",
    "来看看具体做法,先创建一批数据x,y"
   ]
  },
  {
   "cell_type": "code",
   "execution_count": 4,
   "metadata": {
    "collapsed": true
   },
   "outputs": [],
   "source": [
    "import torch\n",
    "\n",
    "# 创建了50个样本\n",
    "x = torch.unsqueeze(torch.linspace(1,10,50), dim=1)\n",
    "y = x.pow(2)"
   ]
  },
  {
   "cell_type": "markdown",
   "metadata": {},
   "source": [
    "将数据转换为TensorDataset"
   ]
  },
  {
   "cell_type": "code",
   "execution_count": 3,
   "metadata": {
    "collapsed": true
   },
   "outputs": [],
   "source": [
    "dataset = Data.TensorDataset(x, y)"
   ]
  },
  {
   "cell_type": "markdown",
   "metadata": {},
   "source": [
    "将TensorDataset转换成dataloader，设置参数batch_size,dataloader是一个迭代器，它会每次都吐出batch_size个样本"
   ]
  },
  {
   "cell_type": "code",
   "execution_count": 7,
   "metadata": {},
   "outputs": [
    {
     "name": "stdout",
     "output_type": "stream",
     "text": [
      "<torch.utils.data.dataloader.DataLoader object at 0x000001C262A235C0>\n",
      "torch.Size([10, 1])\n",
      "torch.Size([10, 1])\n",
      "\n",
      "torch.Size([10, 1])\n",
      "torch.Size([10, 1])\n",
      "\n",
      "torch.Size([10, 1])\n",
      "torch.Size([10, 1])\n",
      "\n",
      "torch.Size([10, 1])\n",
      "torch.Size([10, 1])\n",
      "\n",
      "torch.Size([10, 1])\n",
      "torch.Size([10, 1])\n",
      "\n"
     ]
    }
   ],
   "source": [
    "dataloader = Data.DataLoader(dataset=dataset, batch_size=10)\n",
    "print(dataloader)\n",
    "\n",
    "for inp, out in dataloader:\n",
    "    print(inp.shape)\n",
    "    print(out.shape)\n",
    "    print()"
   ]
  },
  {
   "cell_type": "markdown",
   "metadata": {},
   "source": [
    "使用dataloader，以训练一个简单的线性模型为例，完整的代码如下："
   ]
  },
  {
   "cell_type": "code",
   "execution_count": 1,
   "metadata": {},
   "outputs": [
    {
     "name": "stderr",
     "output_type": "stream",
     "text": [
      "C:\\Users\\CC\\Anaconda3\\lib\\site-packages\\torch\\nn\\functional.py:52: UserWarning: size_average and reduce args will be deprecated, please use reduction='elementwise_mean' instead.\n",
      "  warnings.warn(warning.format(ret))\n"
     ]
    },
    {
     "name": "stdout",
     "output_type": "stream",
     "text": [
      "the loss of 0 batch is : 2166.915283\n",
      "the loss of 500 batch is : 32.224888\n",
      "the loss of 1000 batch is : 8.669624\n",
      "the loss of 1500 batch is : 4.125319\n",
      "the loss of 2000 batch is : 2.358487\n",
      "the loss of 2500 batch is : 1.470182\n",
      "the loss of 3000 batch is : 1.147537\n",
      "the loss of 3500 batch is : 0.912313\n",
      "the loss of 4000 batch is : 0.862902\n",
      "the loss of 4500 batch is : 0.790936\n",
      "tensor([4.3891], grad_fn=<ThAddBackward>)\n",
      "tensor([4.3891], grad_fn=<ThAddBackward>)\n"
     ]
    },
    {
     "name": "stderr",
     "output_type": "stream",
     "text": [
      "C:\\Users\\CC\\Anaconda3\\lib\\site-packages\\torch\\serialization.py:241: UserWarning: Couldn't retrieve source code for container of type RegressionModel. It won't be checked for correctness upon loading.\n",
      "  \"type \" + obj.__name__ + \". It won't be checked \"\n"
     ]
    }
   ],
   "source": [
    "import torch\n",
    "import torch.nn as nn\n",
    "import torch.utils.data as Data\n",
    "\n",
    "\n",
    "class RegressionModel(nn.Module):\n",
    "    def __init__(self, n_input, n_hidden, n_output):\n",
    "        super(RegressionModel, self).__init__()\n",
    "        self.linear1 = nn.Linear(n_input, n_hidden)\n",
    "        self.relu = nn.ReLU()\n",
    "        self.linear2 = nn.Linear(n_hidden, n_output)\n",
    "\n",
    "    def forward(self, input):\n",
    "        hidden = self.linear1(input)\n",
    "        activate = self.relu(hidden)\n",
    "        output = self.linear2(activate)\n",
    "\n",
    "        return output\n",
    "\n",
    "# # 数据\n",
    "# 原始数据，x与y\n",
    "x = torch.unsqueeze(torch.linspace(1,10,50), dim=1)\n",
    "y = x.pow(2)\n",
    "\n",
    "# 转换成TensorDataset\n",
    "dataset = Data.TensorDataset(x, y)\n",
    "\n",
    "# 转换成dataloader\n",
    "dataloader = Data.DataLoader(dataset=dataset, batch_size=10)\n",
    "\n",
    "\n",
    "# # 模型\n",
    "# 模型结构\n",
    "model = RegressionModel(1, 10, 1)\n",
    "\n",
    "# 优化器\n",
    "optim = torch.optim.SGD(model.parameters(), lr=0.0001)\n",
    "# scheduler = torch.optim.lr_scheduler.StepLR(optim, 1000/)\n",
    "\n",
    "# 损失\n",
    "loss_f = nn.MSELoss(reduce=True)\n",
    "\n",
    "# # 训练\n",
    "for e in range(5000):\n",
    "    epoch_loss = 0\n",
    "    for i, (inp, out) in enumerate(dataloader):\n",
    "        optim.zero_grad()\n",
    "\n",
    "        predict = model(inp)\n",
    "        loss = loss_f(predict, out)\n",
    "\n",
    "        loss.backward()\n",
    "\n",
    "        optim.step()\n",
    "        epoch_loss += loss.data\n",
    "\n",
    "    # scheduler.step()\n",
    "\n",
    "    if e % 500 == 0:\n",
    "        print('the loss of %d batch is : %f' % (e, epoch_loss / (50/10)))\n",
    "\n",
    "\n",
    "# # 保存与加载模型\n",
    "# 方式1\n",
    "model_path = 'data/regression_model.pkl'\n",
    "torch.save(model, model_path)\n",
    "reload_model = torch.load(model_path)\n",
    "print(reload_model(torch.Tensor([2])))\n",
    "\n",
    "# # 保存与加载模型\n",
    "# 方式2\n",
    "model_path2 = 'data/regression_model2.pkl'\n",
    "torch.save(model.state_dict(), model_path2)\n",
    "reload_model = RegressionModel(1,10,1)\n",
    "reload_model.load_state_dict(torch.load(model_path2))\n",
    "print(reload_model(torch.Tensor([2])))"
   ]
  }
 ],
 "metadata": {
  "kernelspec": {
   "display_name": "Python 3",
   "language": "python",
   "name": "python3"
  },
  "language_info": {
   "codemirror_mode": {
    "name": "ipython",
    "version": 3
   },
   "file_extension": ".py",
   "mimetype": "text/x-python",
   "name": "python",
   "nbconvert_exporter": "python",
   "pygments_lexer": "ipython3",
   "version": "3.6.2"
  }
 },
 "nbformat": 4,
 "nbformat_minor": 2
}
