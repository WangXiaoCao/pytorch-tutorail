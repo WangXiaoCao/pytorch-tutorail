{
 "cells": [
  {
   "cell_type": "markdown",
   "metadata": {},
   "source": [
    "# 0 声明\n",
    "\n",
    "教程的参考和引用的教材是：\n",
    "\n",
    "Book:《Deep Learning with Pytorch》 Author:Eli Stevens and Luca Antiga\n",
    "Book:《PyTorch 深度学习入门》 Author: 曾芃壹\n",
    "Course: 《深度学习之PyTorch实战篇》\n",
    "其他：各种博客资源\n",
    "\n",
    "教程中会引用以上资源中的优秀图片与代码，若构成侵权请及时与我联系（17705853018@163.com)"
   ]
  }
 ],
 "metadata": {
  "kernelspec": {
   "display_name": "Python 3",
   "language": "python",
   "name": "python3"
  },
  "language_info": {
   "codemirror_mode": {
    "name": "ipython",
    "version": 3
   },
   "file_extension": ".py",
   "mimetype": "text/x-python",
   "name": "python",
   "nbconvert_exporter": "python",
   "pygments_lexer": "ipython3",
   "version": "3.6.2"
  }
 },
 "nbformat": 4,
 "nbformat_minor": 2
}
