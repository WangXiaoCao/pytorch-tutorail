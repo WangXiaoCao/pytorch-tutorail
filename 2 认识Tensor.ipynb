{
 "cells": [
  {
   "cell_type": "markdown",
   "metadata": {},
   "source": [
    "# 2 认识Tensor\n",
    "本章将对pytorch的数据结构tensor进行初步介绍，分别从五大方面介绍：\n",
    "\n",
    "- tensor的初步认识\n",
    "- tensor的创建方式\n",
    "- tensor有哪些数据类型，常用api\n",
    "- tensor的是如何存储的\n",
    "- tensor的api归纳总结"
   ]
  }
 ],
 "metadata": {
  "kernelspec": {
   "display_name": "Python 3",
   "language": "python",
   "name": "python3"
  },
  "language_info": {
   "codemirror_mode": {
    "name": "ipython",
    "version": 3
   },
   "file_extension": ".py",
   "mimetype": "text/x-python",
   "name": "python",
   "nbconvert_exporter": "python",
   "pygments_lexer": "ipython3",
   "version": "3.6.2"
  }
 },
 "nbformat": 4,
 "nbformat_minor": 2
}
