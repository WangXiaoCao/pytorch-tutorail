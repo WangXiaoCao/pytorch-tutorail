{
 "cells": [
  {
   "cell_type": "markdown",
   "metadata": {},
   "source": [
    "## 5.3 利用nn.Module subcalssg构建复杂模型\n",
    "\n",
    "5.1节讲了直接调用nn.Module构建简单的模型，5.2节将了用nn.Sequencce来组合简单的子模块构建稍微复杂一点的模型。但是当需要构建的模型非常复杂的时候（实际业务中往往需要复杂模型），就需要用到另一个构建模型的方式：自定义nn.Module的子类来构建模型。\n",
    "\n",
    "### 5.3.1 创建模型\n",
    "为了方便大家理解，这里还是用5.2节的模型结构来举例，代码如下"
   ]
  },
  {
   "cell_type": "code",
   "execution_count": 2,
   "metadata": {},
   "outputs": [
    {
     "name": "stdout",
     "output_type": "stream",
     "text": [
      "SubclassModel(\n",
      "  (hidden_linear): Linear(in_features=1, out_features=13, bias=True)\n",
      "  (hidden_activation): Tanh()\n",
      "  (output_linear): Linear(in_features=13, out_features=1, bias=True)\n",
      ")\n"
     ]
    }
   ],
   "source": [
    "import torch.nn as nn\n",
    "\n",
    "class SubclassModel(nn.Module):\n",
    "    def __init__(self):\n",
    "        super().__init__()\n",
    "        \n",
    "        self.hidden_linear = nn.Linear(1,13)\n",
    "        self.hidden_activation = nn.Tanh()\n",
    "        self.output_linear = nn.Linear(13,1)\n",
    "        \n",
    "    def forward(self, input):\n",
    "        hidden = self.hidden_linear(input)\n",
    "        activation = self.hidden_activation(hidden)\n",
    "        output = self.output_linear(activation)\n",
    "        \n",
    "        return output\n",
    "    \n",
    "sub_model = SubclassModel()\n",
    "print(sub_model)"
   ]
  },
  {
   "cell_type": "markdown",
   "metadata": {},
   "source": [
    "撰写一个正确的nn.Module的子类：\n",
    "- 子类一定要继承nn.Module父类\n",
    "- 在__init__中创建模型需要的各个子模块\n",
    "- 需要一个forward()方法，当外部调用SubclassModel实例的时候，实际上是在运行forward函数\n",
    "- forward()方法中是根据需要的顺序调用在__init__中创建好的各组件，最后返回最终结果\n",
    "\n",
    "从模型的打印结果来看，它和5.2节用nn.sequence创建的模型是一模一样哒~\n",
    "\n",
    "### 5.3.2 获取参数\n",
    "\n",
    "同理，可以用之前的方式来获取模型的参数与梯度。"
   ]
  },
  {
   "cell_type": "code",
   "execution_count": 3,
   "metadata": {},
   "outputs": [
    {
     "name": "stdout",
     "output_type": "stream",
     "text": [
      "hidden_linear.weight torch.Size([13, 1])\n",
      "hidden_linear.bias torch.Size([13])\n",
      "output_linear.weight torch.Size([1, 13])\n",
      "output_linear.bias torch.Size([1])\n"
     ]
    }
   ],
   "source": [
    "for name, param in sub_model.named_parameters():\n",
    "    print(name, param.shape)"
   ]
  },
  {
   "cell_type": "markdown",
   "metadata": {},
   "source": [
    "为什么可以通过这种形式获取参数呢，因为在__init__()中创建子模块时已经对这些模块进行了注册，所以可以在外面用model.parameters()可以调用这些子模块的参数。那么是不是说如果这个子模块根本不产生参数，其实就没有必要再初始化的时候注册了，直接在forward中调用即可。\n",
    "\n",
    "如激活函数tanh，不需要参数，可以如下改造："
   ]
  },
  {
   "cell_type": "code",
   "execution_count": 4,
   "metadata": {},
   "outputs": [
    {
     "name": "stdout",
     "output_type": "stream",
     "text": [
      "SubclassModel(\n",
      "  (hidden_linear): Linear(in_features=1, out_features=13, bias=True)\n",
      "  (output_linear): Linear(in_features=13, out_features=1, bias=True)\n",
      ")\n"
     ]
    }
   ],
   "source": [
    "import torch\n",
    "\n",
    "class SubclassModel(nn.Module):\n",
    "    def __init__(self):\n",
    "        super().__init__()\n",
    "        \n",
    "        self.hidden_linear = nn.Linear(1,13)\n",
    "        \n",
    "        self.output_linear = nn.Linear(13,1)\n",
    "        \n",
    "    def forward(self, input):\n",
    "        hidden = self.hidden_linear(input)\n",
    "        activation = torch.tanh(hidden)\n",
    "        output = self.output_linear(activation)\n",
    "        \n",
    "        return output\n",
    "    \n",
    "sub_model = SubclassModel()\n",
    "print(sub_model)"
   ]
  },
  {
   "cell_type": "markdown",
   "metadata": {},
   "source": [
    "此时，激活函数并不是模型组件中的一员了。\n",
    "\n",
    "虽然这些激活函数在pytorch1.0中仍然存在于nn.function中，但是之后会渐渐被移除，而旨在torch包中被调用。"
   ]
  },
  {
   "cell_type": "code",
   "execution_count": null,
   "metadata": {
    "collapsed": true
   },
   "outputs": [],
   "source": []
  }
 ],
 "metadata": {
  "kernelspec": {
   "display_name": "Python 3",
   "language": "python",
   "name": "python3"
  },
  "language_info": {
   "codemirror_mode": {
    "name": "ipython",
    "version": 3
   },
   "file_extension": ".py",
   "mimetype": "text/x-python",
   "name": "python",
   "nbconvert_exporter": "python",
   "pygments_lexer": "ipython3",
   "version": "3.6.2"
  }
 },
 "nbformat": 4,
 "nbformat_minor": 2
}
