{
 "cells": [
  {
   "cell_type": "markdown",
   "metadata": {},
   "source": [
    "# 5 Pytorch构建复杂模型\n",
    "\n",
    "pytorch在torch.nn提供了神经网络模型的所有子模块.这些子模块包含了构建神经网络的块，这些块在pytorch中称为module（你可能会在其他深度学习框架中发现被称为layer,其实是一个东东）。\n",
    "\n",
    "也就是说神经网络完整模型其实是由一个一个module组成的。但我们想构建一个自己的模型的时候，只需要调取对应的module，像搭积木一样搭成自己想要的模型结构即可。\n",
    "\n",
    "所有的moduel都是一个python类，都是继承自nn.Module这个父类的。一个Module类有两类基本属性：\n",
    "- Parameter instatance， 即moduel中有一个或多个参数实例，这些tensor形式的参数是模型的灵魂，在数据上训练模型就是为了估计这些参数的值，从而也就有了模型本身。比如线性回归中的w和b\n",
    "- submodule （sub class of nn.Module), 即子模块，这些子模块的组合才成就了整个大模块。\n",
    "\n",
    "## 本章结构\n",
    "\n",
    "本章讲介绍如何利用pytorch提供的模型组件来构造自己想要的模型。分别由三小节：\n",
    "\n",
    "- 第一节：介绍利用nn.Module构建单一模型与获取参数\n",
    "- 第二节：介绍利用nn.Sequence构建略复杂的需要组合组件的模型于获取参数\n",
    "- 第三节：介绍利用nn.Module的subclass构建更复杂的模型与获取参数\n",
    "\n"
   ]
  },
  {
   "cell_type": "code",
   "execution_count": null,
   "metadata": {
    "collapsed": true
   },
   "outputs": [],
   "source": []
  }
 ],
 "metadata": {
  "kernelspec": {
   "display_name": "Python 3",
   "language": "python",
   "name": "python3"
  },
  "language_info": {
   "codemirror_mode": {
    "name": "ipython",
    "version": 3
   },
   "file_extension": ".py",
   "mimetype": "text/x-python",
   "name": "python",
   "nbconvert_exporter": "python",
   "pygments_lexer": "ipython3",
   "version": "3.6.2"
  }
 },
 "nbformat": 4,
 "nbformat_minor": 2
}
