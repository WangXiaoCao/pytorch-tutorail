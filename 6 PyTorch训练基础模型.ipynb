{
 "cells": [
  {
   "cell_type": "markdown",
   "metadata": {},
   "source": [
    "# 6 PyTorch训练神经网络模型\n",
    "\n",
    "终于到了训练深度学习模型的阶段，我们用了前面5章的铺垫才来到初学者以为可以马上上手的一章。但铺垫固然枯燥，却为之后的深入学习做了系统的知识储备。\n",
    "\n",
    "本章会用PyTorch构建和训练经典和基础的模型。"
   ]
  }
 ],
 "metadata": {
  "kernelspec": {
   "display_name": "Python 3",
   "language": "python",
   "name": "python3"
  },
  "language_info": {
   "codemirror_mode": {
    "name": "ipython",
    "version": 3
   },
   "file_extension": ".py",
   "mimetype": "text/x-python",
   "name": "python",
   "nbconvert_exporter": "python",
   "pygments_lexer": "ipython3",
   "version": "3.6.2"
  }
 },
 "nbformat": 4,
 "nbformat_minor": 2
}
